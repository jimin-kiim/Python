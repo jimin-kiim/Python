{
 "cells": [
  {
   "cell_type": "markdown",
   "metadata": {},
   "source": [
    "supervised learning\n",
    "-there's a known target for the historical data\n",
    "-classification, regression\n",
    "\n",
    "-unsupervised learning(no known target)"
   ]
  },
  {
   "cell_type": "markdown",
   "metadata": {},
   "source": [
    "# Classification\n",
    "\n",
    "- target : what to predict.\n",
    "- feature(predictor) : the data used to predict the target. \n"
   ]
  },
  {
   "cell_type": "markdown",
   "metadata": {},
   "source": [
    "## Linear model for Classification\n",
    "\n",
    "- the goal of drawing the line in a linear model for classification : determining what the best possible line is to separate the two classes.\n",
    "\n",
    "0 = ax + by + c"
   ]
  },
  {
   "cell_type": "markdown",
   "metadata": {},
   "source": [
    "## Logistic Regression Model \n",
    "\n",
    "- to determine the best possible line => need to score the line.\n",
    "- sigmoid : the equation for calculating the score. \n",
    "- logistic regression : a way of mathematically finding the best line. \n"
   ]
  }
 ],
 "metadata": {
  "interpreter": {
   "hash": "40d3a090f54c6569ab1632332b64b2c03c39dcf918b08424e98f38b5ae0af88f"
  },
  "kernelspec": {
   "display_name": "Python 3.8.8 ('base')",
   "language": "python",
   "name": "python3"
  },
  "language_info": {
   "name": "python",
   "version": "3.8.8"
  },
  "orig_nbformat": 4
 },
 "nbformat": 4,
 "nbformat_minor": 2
}
